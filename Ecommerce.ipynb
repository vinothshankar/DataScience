{
 "cells": [
  {
   "cell_type": "markdown",
   "metadata": {},
   "source": [
    "## Online Retail DataSet"
   ]
  },
  {
   "cell_type": "markdown",
   "metadata": {},
   "source": [
    "## Introduction:\n",
    "\n",
    "In recent years, online shopping has grown from non-existent to a multibillion-dollar industry. Buying products online has become a regular among millions of peoples. In 2019 eCommerce comprises more than 14.2% of global retail revenue also it is estimated there will be 1.92 billion global digital buyers.  The reason behind the growth of online shopping is the service and experience provided by businesses. We could see a lot of new features provided by businesses to retain buyers and their online shopping experience. Businesses use the recommendation system to improve the buyer's shopping experience. The recommendation system works based on the products purchased or buyer interest by their history of transactions. I have an online retail dataset which consists of 8 columns with a detailed transnational data occurred between 2010 to 2011 for a lot of countries based on this dataset I am going to recommend the top 10 products for each selected product. To recommend products I am going to use KNN, Cosine similarity, Pearson correlation coefficient, and Matrix factorization."
   ]
  },
  {
   "cell_type": "markdown",
   "metadata": {},
   "source": [
    "## Research Objective:\n",
    "\n",
    "Improving recommendation system based on seasonal products."
   ]
  },
  {
   "cell_type": "markdown",
   "metadata": {},
   "source": [
    "## Problem Statement:\n",
    "\n",
    "While purchasing products online we could see a lot of recommendations related to a product. Mostly all the recommendations are based on throughout the year there won't be any separate recommendation for seasonal products. For example, a seasonal product like a winter coat could not be recommended to a customer in summer. My goal is to recommend products based on the season through which we can improve sales and also attracts buyers to continue their shopping experience happily.  "
   ]
  },
  {
   "cell_type": "code",
   "execution_count": 1,
   "metadata": {},
   "outputs": [],
   "source": [
    "import pandas as pd\n",
    "import numpy as np\n",
    "import matplotlib.pyplot as plt\n",
    "import seaborn as sns\n",
    "import datetime\n",
    "from scipy.sparse.linalg import svds\n",
    "from sklearn.metrics.pairwise import cosine_similarity\n",
    "from scipy.sparse import csr_matrix\n",
    "from sklearn.model_selection import train_test_split\n",
    "from sklearn.metrics import mean_squared_error\n",
    "from math import sqrt\n",
    "from sklearn.neighbors import NearestNeighbors\n",
    "from scipy.sparse import csr_matrix"
   ]
  },
  {
   "cell_type": "markdown",
   "metadata": {},
   "source": [
    "Importing online retai dataset. (src: https://archive.ics.uci.edu/ml/datasets/Online+Retail) "
   ]
  },
  {
   "cell_type": "code",
   "execution_count": 2,
   "metadata": {},
   "outputs": [],
   "source": [
    "data=pd.read_excel('Online Retail.xlsx')"
   ]
  },
  {
   "cell_type": "code",
   "execution_count": 3,
   "metadata": {},
   "outputs": [
    {
     "data": {
      "text/html": [
       "<div>\n",
       "<style scoped>\n",
       "    .dataframe tbody tr th:only-of-type {\n",
       "        vertical-align: middle;\n",
       "    }\n",
       "\n",
       "    .dataframe tbody tr th {\n",
       "        vertical-align: top;\n",
       "    }\n",
       "\n",
       "    .dataframe thead th {\n",
       "        text-align: right;\n",
       "    }\n",
       "</style>\n",
       "<table border=\"1\" class=\"dataframe\">\n",
       "  <thead>\n",
       "    <tr style=\"text-align: right;\">\n",
       "      <th></th>\n",
       "      <th>InvoiceNo</th>\n",
       "      <th>StockCode</th>\n",
       "      <th>Description</th>\n",
       "      <th>Quantity</th>\n",
       "      <th>InvoiceDate</th>\n",
       "      <th>UnitPrice</th>\n",
       "      <th>CustomerID</th>\n",
       "      <th>Country</th>\n",
       "    </tr>\n",
       "  </thead>\n",
       "  <tbody>\n",
       "    <tr>\n",
       "      <th>0</th>\n",
       "      <td>536365</td>\n",
       "      <td>85123A</td>\n",
       "      <td>WHITE HANGING HEART T-LIGHT HOLDER</td>\n",
       "      <td>6</td>\n",
       "      <td>2010-12-01 08:26:00</td>\n",
       "      <td>2.55</td>\n",
       "      <td>17850.0</td>\n",
       "      <td>United Kingdom</td>\n",
       "    </tr>\n",
       "    <tr>\n",
       "      <th>1</th>\n",
       "      <td>536365</td>\n",
       "      <td>71053</td>\n",
       "      <td>WHITE METAL LANTERN</td>\n",
       "      <td>6</td>\n",
       "      <td>2010-12-01 08:26:00</td>\n",
       "      <td>3.39</td>\n",
       "      <td>17850.0</td>\n",
       "      <td>United Kingdom</td>\n",
       "    </tr>\n",
       "    <tr>\n",
       "      <th>2</th>\n",
       "      <td>536365</td>\n",
       "      <td>84406B</td>\n",
       "      <td>CREAM CUPID HEARTS COAT HANGER</td>\n",
       "      <td>8</td>\n",
       "      <td>2010-12-01 08:26:00</td>\n",
       "      <td>2.75</td>\n",
       "      <td>17850.0</td>\n",
       "      <td>United Kingdom</td>\n",
       "    </tr>\n",
       "    <tr>\n",
       "      <th>3</th>\n",
       "      <td>536365</td>\n",
       "      <td>84029G</td>\n",
       "      <td>KNITTED UNION FLAG HOT WATER BOTTLE</td>\n",
       "      <td>6</td>\n",
       "      <td>2010-12-01 08:26:00</td>\n",
       "      <td>3.39</td>\n",
       "      <td>17850.0</td>\n",
       "      <td>United Kingdom</td>\n",
       "    </tr>\n",
       "    <tr>\n",
       "      <th>4</th>\n",
       "      <td>536365</td>\n",
       "      <td>84029E</td>\n",
       "      <td>RED WOOLLY HOTTIE WHITE HEART.</td>\n",
       "      <td>6</td>\n",
       "      <td>2010-12-01 08:26:00</td>\n",
       "      <td>3.39</td>\n",
       "      <td>17850.0</td>\n",
       "      <td>United Kingdom</td>\n",
       "    </tr>\n",
       "  </tbody>\n",
       "</table>\n",
       "</div>"
      ],
      "text/plain": [
       "  InvoiceNo StockCode                          Description  Quantity  \\\n",
       "0    536365    85123A   WHITE HANGING HEART T-LIGHT HOLDER         6   \n",
       "1    536365     71053                  WHITE METAL LANTERN         6   \n",
       "2    536365    84406B       CREAM CUPID HEARTS COAT HANGER         8   \n",
       "3    536365    84029G  KNITTED UNION FLAG HOT WATER BOTTLE         6   \n",
       "4    536365    84029E       RED WOOLLY HOTTIE WHITE HEART.         6   \n",
       "\n",
       "          InvoiceDate  UnitPrice  CustomerID         Country  \n",
       "0 2010-12-01 08:26:00       2.55     17850.0  United Kingdom  \n",
       "1 2010-12-01 08:26:00       3.39     17850.0  United Kingdom  \n",
       "2 2010-12-01 08:26:00       2.75     17850.0  United Kingdom  \n",
       "3 2010-12-01 08:26:00       3.39     17850.0  United Kingdom  \n",
       "4 2010-12-01 08:26:00       3.39     17850.0  United Kingdom  "
      ]
     },
     "execution_count": 3,
     "metadata": {},
     "output_type": "execute_result"
    }
   ],
   "source": [
    "data.head()"
   ]
  },
  {
   "cell_type": "markdown",
   "metadata": {},
   "source": [
    "Removing unspecified country from the dataset."
   ]
  },
  {
   "cell_type": "code",
   "execution_count": 4,
   "metadata": {},
   "outputs": [],
   "source": [
    "data = data[data.Country != 'Unspecified']"
   ]
  },
  {
   "cell_type": "markdown",
   "metadata": {},
   "source": [
    "Removing unwanted spaces from description column"
   ]
  },
  {
   "cell_type": "code",
   "execution_count": 5,
   "metadata": {},
   "outputs": [],
   "source": [
    "data['Description'] = data['Description'].str.strip()"
   ]
  },
  {
   "cell_type": "markdown",
   "metadata": {},
   "source": [
    "Removed quantity which are less than 0"
   ]
  },
  {
   "cell_type": "code",
   "execution_count": 6,
   "metadata": {},
   "outputs": [],
   "source": [
    "data = data.loc[data['Quantity'] > 0]"
   ]
  },
  {
   "cell_type": "markdown",
   "metadata": {},
   "source": [
    "Removed rows without customer Id"
   ]
  },
  {
   "cell_type": "code",
   "execution_count": 7,
   "metadata": {},
   "outputs": [
    {
     "data": {
      "text/html": [
       "<div>\n",
       "<style scoped>\n",
       "    .dataframe tbody tr th:only-of-type {\n",
       "        vertical-align: middle;\n",
       "    }\n",
       "\n",
       "    .dataframe tbody tr th {\n",
       "        vertical-align: top;\n",
       "    }\n",
       "\n",
       "    .dataframe thead th {\n",
       "        text-align: right;\n",
       "    }\n",
       "</style>\n",
       "<table border=\"1\" class=\"dataframe\">\n",
       "  <thead>\n",
       "    <tr style=\"text-align: right;\">\n",
       "      <th></th>\n",
       "      <th>InvoiceNo</th>\n",
       "      <th>StockCode</th>\n",
       "      <th>Description</th>\n",
       "      <th>Quantity</th>\n",
       "      <th>InvoiceDate</th>\n",
       "      <th>UnitPrice</th>\n",
       "      <th>CustomerID</th>\n",
       "      <th>Country</th>\n",
       "    </tr>\n",
       "  </thead>\n",
       "  <tbody>\n",
       "    <tr>\n",
       "      <th>622</th>\n",
       "      <td>536414</td>\n",
       "      <td>22139</td>\n",
       "      <td>NaN</td>\n",
       "      <td>56</td>\n",
       "      <td>2010-12-01 11:52:00</td>\n",
       "      <td>0.00</td>\n",
       "      <td>NaN</td>\n",
       "      <td>United Kingdom</td>\n",
       "    </tr>\n",
       "    <tr>\n",
       "      <th>1443</th>\n",
       "      <td>536544</td>\n",
       "      <td>21773</td>\n",
       "      <td>DECORATIVE ROSE BATHROOM BOTTLE</td>\n",
       "      <td>1</td>\n",
       "      <td>2010-12-01 14:32:00</td>\n",
       "      <td>2.51</td>\n",
       "      <td>NaN</td>\n",
       "      <td>United Kingdom</td>\n",
       "    </tr>\n",
       "    <tr>\n",
       "      <th>1444</th>\n",
       "      <td>536544</td>\n",
       "      <td>21774</td>\n",
       "      <td>DECORATIVE CATS BATHROOM BOTTLE</td>\n",
       "      <td>2</td>\n",
       "      <td>2010-12-01 14:32:00</td>\n",
       "      <td>2.51</td>\n",
       "      <td>NaN</td>\n",
       "      <td>United Kingdom</td>\n",
       "    </tr>\n",
       "    <tr>\n",
       "      <th>1445</th>\n",
       "      <td>536544</td>\n",
       "      <td>21786</td>\n",
       "      <td>POLKADOT RAIN HAT</td>\n",
       "      <td>4</td>\n",
       "      <td>2010-12-01 14:32:00</td>\n",
       "      <td>0.85</td>\n",
       "      <td>NaN</td>\n",
       "      <td>United Kingdom</td>\n",
       "    </tr>\n",
       "    <tr>\n",
       "      <th>1446</th>\n",
       "      <td>536544</td>\n",
       "      <td>21787</td>\n",
       "      <td>RAIN PONCHO RETROSPOT</td>\n",
       "      <td>2</td>\n",
       "      <td>2010-12-01 14:32:00</td>\n",
       "      <td>1.66</td>\n",
       "      <td>NaN</td>\n",
       "      <td>United Kingdom</td>\n",
       "    </tr>\n",
       "  </tbody>\n",
       "</table>\n",
       "</div>"
      ],
      "text/plain": [
       "     InvoiceNo StockCode                      Description  Quantity  \\\n",
       "622     536414     22139                              NaN        56   \n",
       "1443    536544     21773  DECORATIVE ROSE BATHROOM BOTTLE         1   \n",
       "1444    536544     21774  DECORATIVE CATS BATHROOM BOTTLE         2   \n",
       "1445    536544     21786                POLKADOT RAIN HAT         4   \n",
       "1446    536544     21787            RAIN PONCHO RETROSPOT         2   \n",
       "\n",
       "             InvoiceDate  UnitPrice  CustomerID         Country  \n",
       "622  2010-12-01 11:52:00       0.00         NaN  United Kingdom  \n",
       "1443 2010-12-01 14:32:00       2.51         NaN  United Kingdom  \n",
       "1444 2010-12-01 14:32:00       2.51         NaN  United Kingdom  \n",
       "1445 2010-12-01 14:32:00       0.85         NaN  United Kingdom  \n",
       "1446 2010-12-01 14:32:00       1.66         NaN  United Kingdom  "
      ]
     },
     "execution_count": 7,
     "metadata": {},
     "output_type": "execute_result"
    }
   ],
   "source": [
    "data.loc[data['CustomerID'].isna()].head()\n"
   ]
  },
  {
   "cell_type": "code",
   "execution_count": 8,
   "metadata": {},
   "outputs": [],
   "source": [
    "df = data.dropna(subset=['CustomerID'])"
   ]
  },
  {
   "cell_type": "markdown",
   "metadata": {},
   "source": [
    "Removing the rows that don’t have invoice numbers and credit transactions"
   ]
  },
  {
   "cell_type": "code",
   "execution_count": 9,
   "metadata": {},
   "outputs": [
    {
     "name": "stderr",
     "output_type": "stream",
     "text": [
      "C:\\Users\\Vinoth Shankar\\AppData\\Local\\Programs\\Python\\Python37\\lib\\site-packages\\ipykernel_launcher.py:1: SettingWithCopyWarning: \n",
      "A value is trying to be set on a copy of a slice from a DataFrame\n",
      "\n",
      "See the caveats in the documentation: http://pandas.pydata.org/pandas-docs/stable/user_guide/indexing.html#returning-a-view-versus-a-copy\n",
      "  \"\"\"Entry point for launching an IPython kernel.\n",
      "C:\\Users\\Vinoth Shankar\\AppData\\Local\\Programs\\Python\\Python37\\lib\\site-packages\\ipykernel_launcher.py:2: SettingWithCopyWarning: \n",
      "A value is trying to be set on a copy of a slice from a DataFrame.\n",
      "Try using .loc[row_indexer,col_indexer] = value instead\n",
      "\n",
      "See the caveats in the documentation: http://pandas.pydata.org/pandas-docs/stable/user_guide/indexing.html#returning-a-view-versus-a-copy\n",
      "  \n"
     ]
    }
   ],
   "source": [
    "df.dropna(axis=0, subset=['InvoiceNo'], inplace=True)\n",
    "df['InvoiceNo'] = df['InvoiceNo'].astype('str')\n",
    "df = df[~df['InvoiceNo'].str.contains('C')]\n",
    "df=df[df['StockCode'].astype(str).str.isdigit()]\n"
   ]
  },
  {
   "cell_type": "code",
   "execution_count": 10,
   "metadata": {},
   "outputs": [],
   "source": [
    "Cols=df.columns"
   ]
  },
  {
   "cell_type": "code",
   "execution_count": 11,
   "metadata": {},
   "outputs": [
    {
     "data": {
      "text/plain": [
       "InvoiceNo              object\n",
       "StockCode              object\n",
       "Description            object\n",
       "Quantity                int64\n",
       "InvoiceDate    datetime64[ns]\n",
       "UnitPrice             float64\n",
       "CustomerID            float64\n",
       "Country                object\n",
       "dtype: object"
      ]
     },
     "execution_count": 11,
     "metadata": {},
     "output_type": "execute_result"
    }
   ],
   "source": [
    "df.dtypes"
   ]
  },
  {
   "cell_type": "markdown",
   "metadata": {},
   "source": [
    "Splitting the dataset into season wise"
   ]
  },
  {
   "cell_type": "code",
   "execution_count": 12,
   "metadata": {},
   "outputs": [],
   "source": [
    "SpringDataSet=pd.DataFrame(columns=Cols)\n",
    "for i in range(3,6):\n",
    "    a=df[df['InvoiceDate'].dt.month == i]\n",
    "    SpringDataSet=SpringDataSet.append(a) "
   ]
  },
  {
   "cell_type": "code",
   "execution_count": 13,
   "metadata": {},
   "outputs": [],
   "source": [
    "SummerDataSet=pd.DataFrame(columns=Cols)\n",
    "for i in range(6,9):\n",
    "    a=df[df['InvoiceDate'].dt.month == i]\n",
    "    SummerDataSet=SummerDataSet.append(a)"
   ]
  },
  {
   "cell_type": "code",
   "execution_count": 14,
   "metadata": {},
   "outputs": [],
   "source": [
    "AutumnDataSet=pd.DataFrame(columns=Cols)\n",
    "for i in range(9,12):\n",
    "    a=df[df['InvoiceDate'].dt.month == i]\n",
    "    AutumnDataSet=AutumnDataSet.append(a)"
   ]
  },
  {
   "cell_type": "code",
   "execution_count": 15,
   "metadata": {},
   "outputs": [],
   "source": [
    "WinterDataSet=df[df['InvoiceDate'].dt.month == 12]\n",
    "for i in range(1,3):\n",
    "    a=df[df['InvoiceDate'].dt.month == i]\n",
    "    WinterDataSet=WinterDataSet.append(a)"
   ]
  },
  {
   "cell_type": "markdown",
   "metadata": {},
   "source": [
    "## Data Visualization\n",
    "\n",
    "### Plot 1\n",
    "\n",
    "The plot clearly explains the total number of quantities sold during a particular period. Also, it shows what are the top products sold during that period. We could see in all the plots stock code between 20000 to 25000 as the most number of sales. Also, we could see on a specific period certain stock code as high sales.\n"
   ]
  },
  {
   "cell_type": "code",
   "execution_count": 16,
   "metadata": {},
   "outputs": [],
   "source": [
    "def TopProducts(dataset):\n",
    "    productsSelled = dataset.groupby(by=['StockCode'], as_index=False)['Quantity'].sum()\n",
    "    plt.subplots(figsize=(15,6))\n",
    "    plt.plot(productsSelled.StockCode, productsSelled.Quantity)\n",
    "    plt.xlabel('Stock Code')\n",
    "    plt.ylabel('Quantity')\n",
    "    plt.show()    "
   ]
  },
  {
   "cell_type": "markdown",
   "metadata": {},
   "source": [
    "#### Overall Sales Data:\n",
    "\n",
    "The plot shows the total products sold throughout the year. Here, we could see the stock code between 20000 to 25000 as top sales and also stock near to 85000 as good sales"
   ]
  },
  {
   "cell_type": "code",
   "execution_count": 17,
   "metadata": {},
   "outputs": [
    {
     "data": {
      "image/png": "[encoded data removed]",
      "text/plain": [
       "<Figure size 1080x432 with 1 Axes>"
      ]
     },
     "metadata": {
      "needs_background": "light"
     },
     "output_type": "display_data"
    }
   ],
   "source": [
    "TopProducts(df)"
   ]
  },
  {
   "cell_type": "markdown",
   "metadata": {},
   "source": [
    "#### Spring Sales Data:\n",
    "\n",
    "In spring season we could stock code near to 85000 as top sales on comparing with overall sales."
   ]
  },
  {
   "cell_type": "code",
   "execution_count": 18,
   "metadata": {},
   "outputs": [
    {
     "data": {
      "image/png": "[encoded data removed]",
      "text/plain": [
       "<Figure size 1080x432 with 1 Axes>"
      ]
     },
     "metadata": {
      "needs_background": "light"
     },
     "output_type": "display_data"
    }
   ],
   "source": [
    "TopProducts(SpringDataSet)"
   ]
  },
  {
   "cell_type": "markdown",
   "metadata": {},
   "source": [
    "#### Summer Sales Data:\n",
    "\n",
    "Here we could see stock code ranging between 15000 to 25000 and stock code near to 85000 as an equal number of sales. Also stock code near to 50000 as significant raise."
   ]
  },
  {
   "cell_type": "code",
   "execution_count": 19,
   "metadata": {},
   "outputs": [
    {
     "data": {
      "image/png": "[encoded data removed]",
      "text/plain": [
       "<Figure size 1080x432 with 1 Axes>"
      ]
     },
     "metadata": {
      "needs_background": "light"
     },
     "output_type": "display_data"
    }
   ],
   "source": [
    "TopProducts(SummerDataSet)"
   ]
  },
  {
   "cell_type": "markdown",
   "metadata": {},
   "source": [
    "#### Autumn Sales Data:\n",
    "\n",
    "As usual we could see stock code near to 20000 and 85000 as most sales.\n",
    "    "
   ]
  },
  {
   "cell_type": "code",
   "execution_count": 20,
   "metadata": {},
   "outputs": [
    {
     "data": {
      "image/png": "[encoded data removed]",
      "text/plain": [
       "<Figure size 1080x432 with 1 Axes>"
      ]
     },
     "metadata": {
      "needs_background": "light"
     },
     "output_type": "display_data"
    }
   ],
   "source": [
    "TopProducts(AutumnDataSet)"
   ]
  },
  {
   "cell_type": "markdown",
   "metadata": {},
   "source": [
    "#### Winter Sales Data:\n",
    "    \n",
    "We could see the sales itself low during winter season except few stock code near to 25000"
   ]
  },
  {
   "cell_type": "code",
   "execution_count": 21,
   "metadata": {},
   "outputs": [
    {
     "data": {
      "image/png": "[encoded data removed]",
      "text/plain": [
       "<Figure size 1080x432 with 1 Axes>"
      ]
     },
     "metadata": {
      "needs_background": "light"
     },
     "output_type": "display_data"
    }
   ],
   "source": [
    "TopProducts(WinterDataSet)"
   ]
  },
  {
   "cell_type": "markdown",
   "metadata": {},
   "source": [
    "### Plot 2:\n",
    "\n",
    "The Plot shows the unit price for different products. We could see from time to time a few products were given for free."
   ]
  },
  {
   "cell_type": "code",
   "execution_count": 22,
   "metadata": {},
   "outputs": [
    {
     "data": {
      "image/png": "[encoded data removed]",
      "text/plain": [
       "<Figure size 864x432 with 1 Axes>"
      ]
     },
     "metadata": {
      "needs_background": "light"
     },
     "output_type": "display_data"
    }
   ],
   "source": [
    "plt.subplots(figsize=(12,6))\n",
    "sns.boxplot(df.UnitPrice)\n",
    "plt.show()"
   ]
  },
  {
   "cell_type": "markdown",
   "metadata": {},
   "source": [
    "Pivot Table"
   ]
  },
  {
   "cell_type": "code",
   "execution_count": 23,
   "metadata": {},
   "outputs": [],
   "source": [
    "SpringCustomMatrix = SpringDataSet.pivot_table(index='CustomerID',columns='StockCode',values='Quantity',aggfunc='sum')"
   ]
  },
  {
   "cell_type": "code",
   "execution_count": 24,
   "metadata": {},
   "outputs": [],
   "source": [
    "SummerCustomMatrix = SummerDataSet.pivot_table(index='CustomerID',columns='StockCode',values='Quantity',aggfunc='sum')"
   ]
  },
  {
   "cell_type": "code",
   "execution_count": 25,
   "metadata": {},
   "outputs": [],
   "source": [
    "AutumnCustomMatrix = AutumnDataSet.pivot_table(index='CustomerID',columns='StockCode',values='Quantity',aggfunc='sum')"
   ]
  },
  {
   "cell_type": "code",
   "execution_count": 26,
   "metadata": {},
   "outputs": [],
   "source": [
    "WinterCustomMatrix = WinterDataSet.pivot_table(index='CustomerID',columns='StockCode',values='Quantity',aggfunc='sum')"
   ]
  },
  {
   "cell_type": "code",
   "execution_count": 27,
   "metadata": {},
   "outputs": [],
   "source": [
    "DfCustomMatrix=df.pivot_table(index='CustomerID',columns='StockCode',values='Quantity',aggfunc='sum')"
   ]
  },
  {
   "cell_type": "markdown",
   "metadata": {},
   "source": [
    "Converting units anything greater than zero as one else zero"
   ]
  },
  {
   "cell_type": "code",
   "execution_count": 28,
   "metadata": {},
   "outputs": [],
   "source": [
    "SpringCustomMatrix = SpringCustomMatrix.applymap(lambda x: x if x>0 else 0)\n",
    "SummerCustomMatrix = SummerCustomMatrix.applymap(lambda x: x if x>0 else 0)\n",
    "AutumnCustomMatrix = AutumnCustomMatrix.applymap(lambda x: x if x>0 else 0)\n",
    "WinterCustomMatrix = WinterCustomMatrix.applymap(lambda x: x if x>0 else 0)\n",
    "DfCustomMatrix = DfCustomMatrix.applymap(lambda x: x if x>0 else 0)"
   ]
  },
  {
   "cell_type": "markdown",
   "metadata": {},
   "source": [
    "## Algorithms"
   ]
  },
  {
   "cell_type": "markdown",
   "metadata": {},
   "source": [
    "Following are the three mainly used Recommendation systems,\n",
    "\n",
    "Collaborative filtering,\n",
    "Content Based filtering,\n",
    "Hybrid Recommendation system\n",
    "\n",
    "### Collaborative based filtering:\n",
    "\n",
    "Collaborative filtering requires data collection and analysis of the behaviors and preferences of customers to identify patterns and provide accurate recommendations based on similarity to other users. It can be classified into be user-based or item-based recommendation.\n",
    "\n",
    "### Content Based filtering:\n",
    "\n",
    "Content-based filtering focuses on the object's attributes or descriptive properties. It creates a model based on past behaviors of a user (items previously purchased or selected and/or numerical ratings given to those items) and similar decisions made by other users\n",
    "\n",
    "### Hybrid Recommendation System:\n",
    "\n",
    "The combination of the two approaches utilized here. Most businesses are likely to use hybrid approach in their recommender systems for production.\n"
   ]
  },
  {
   "attachments": {
    "image.png": {
     "image/png": "[encoded data removed]"
    }
   },
   "cell_type": "markdown",
   "metadata": {},
   "source": [
    "### K-Nearest Neighbour using Euclidean\n",
    "\n",
    "KNN is a perfect go-to model for implementing item-based collaborative filtering, and also a very good basis for recommending system development. It makes inferences about a stock code, KNN calculates the \"distance\" between the target stock code and any other stock code in its data frame, then ranks its distances and returns the nearest neighboring top K stock code as recommendations for the most similar stock code. I have used euclidean distance as a distance metric to find its distance between the recommended products.\n",
    "\n",
    "![image.png](attachment:image.png)\n",
    "\n",
    "The recommended stock code does not match with each other datasets. Also, we could see the distance for an overall dataset is doubled that of the distance of seasonal dataset."
   ]
  },
  {
   "cell_type": "code",
   "execution_count": 29,
   "metadata": {},
   "outputs": [],
   "source": [
    "def knnRecommend(StockCode,DataSet):\n",
    "    CustomMatrix = DataSet.pivot_table(index='StockCode',columns='CustomerID',values='Quantity',aggfunc='sum')\n",
    "    CustomMatrix = CustomMatrix.applymap(lambda x: 1 if x>0 else 0)\n",
    "    dfMatrix = csr_matrix(CustomMatrix.values)\n",
    "    model_knn = NearestNeighbors()\n",
    "    model_knn.fit(dfMatrix)\n",
    "    sre=CustomMatrix\n",
    "    sre = CustomMatrix.reset_index()\n",
    "    query_index =sre.loc[sre['StockCode'] == StockCode].index.values.astype(int)[0]\n",
    "    distances, indices = model_knn.kneighbors(CustomMatrix.iloc[query_index,:].values.reshape(1, -1), n_neighbors = 11)\n",
    "    for i in range(0, len(distances.flatten())):\n",
    "        if i == 0:\n",
    "            print('Recommendations for {0}:\\n'.format(CustomMatrix.index[query_index]))\n",
    "        else:\n",
    "            print('{0}: {1}, with distance of {2}:'.format(i, CustomMatrix.index[indices.flatten()[i]], distances.flatten()[i]))\n",
    "\n",
    "    \n",
    "    \n",
    "    "
   ]
  },
  {
   "cell_type": "markdown",
   "metadata": {},
   "source": [
    "#### Overall Dataset"
   ]
  },
  {
   "cell_type": "code",
   "execution_count": 30,
   "metadata": {},
   "outputs": [
    {
     "name": "stdout",
     "output_type": "stream",
     "text": [
      "Recommendations for 11001:\n",
      "\n",
      "1: 90103, with distance of 6.48074069840786:\n",
      "2: 90169, with distance of 6.557438524302:\n",
      "3: 90101, with distance of 6.557438524302:\n",
      "4: 20678, with distance of 6.557438524302:\n",
      "5: 21785, with distance of 6.557438524302:\n",
      "6: 16010, with distance of 6.557438524302:\n",
      "7: 90076, with distance of 6.557438524302:\n",
      "8: 90168, with distance of 6.557438524302:\n",
      "9: 90104, with distance of 6.557438524302:\n",
      "10: 90118, with distance of 6.557438524302:\n"
     ]
    }
   ],
   "source": [
    "knnRecommend(11001,df)"
   ]
  },
  {
   "cell_type": "markdown",
   "metadata": {},
   "source": [
    "#### Spring Dataset"
   ]
  },
  {
   "cell_type": "code",
   "execution_count": 31,
   "metadata": {},
   "outputs": [
    {
     "name": "stdout",
     "output_type": "stream",
     "text": [
      "Recommendations for 11001:\n",
      "\n",
      "1: 20906, with distance of 3.1622776601683795:\n",
      "2: 20670, with distance of 3.3166247903554:\n",
      "3: 22952, with distance of 3.3166247903554:\n",
      "4: 84522, with distance of 3.3166247903554:\n",
      "5: 21698, with distance of 3.3166247903554:\n",
      "6: 22182, with distance of 3.3166247903554:\n",
      "7: 20897, with distance of 3.4641016151377544:\n",
      "8: 21897, with distance of 3.4641016151377544:\n",
      "9: 21357, with distance of 3.4641016151377544:\n",
      "10: 37343, with distance of 3.4641016151377544:\n"
     ]
    }
   ],
   "source": [
    "knnRecommend(11001,SpringDataSet)"
   ]
  },
  {
   "cell_type": "markdown",
   "metadata": {},
   "source": [
    "#### Summer Dataset"
   ]
  },
  {
   "cell_type": "code",
   "execution_count": 32,
   "metadata": {},
   "outputs": [
    {
     "name": "stdout",
     "output_type": "stream",
     "text": [
      "Recommendations for 11001:\n",
      "\n",
      "1: 84226, with distance of 3.4641016151377544:\n",
      "2: 84827, with distance of 3.4641016151377544:\n",
      "3: 21351, with distance of 3.4641016151377544:\n",
      "4: 72131, with distance of 3.4641016151377544:\n",
      "5: 72134, with distance of 3.4641016151377544:\n",
      "6: 22647, with distance of 3.4641016151377544:\n",
      "7: 90103, with distance of 3.4641016151377544:\n",
      "8: 22108, with distance of 3.4641016151377544:\n",
      "9: 22934, with distance of 3.4641016151377544:\n",
      "10: 84658, with distance of 3.4641016151377544:\n"
     ]
    }
   ],
   "source": [
    "knnRecommend(11001,SummerDataSet)"
   ]
  },
  {
   "cell_type": "markdown",
   "metadata": {},
   "source": [
    "#### Autumn Dataset"
   ]
  },
  {
   "cell_type": "code",
   "execution_count": 33,
   "metadata": {},
   "outputs": [
    {
     "name": "stdout",
     "output_type": "stream",
     "text": [
      "Recommendations for 11001:\n",
      "\n",
      "1: 20619, with distance of 4.0:\n",
      "2: 90043, with distance of 4.123105625617661:\n",
      "3: 72812, with distance of 4.123105625617661:\n",
      "4: 90032, with distance of 4.123105625617661:\n",
      "5: 21725, with distance of 4.123105625617661:\n",
      "6: 90049, with distance of 4.123105625617661:\n",
      "7: 90086, with distance of 4.123105625617661:\n",
      "8: 84813, with distance of 4.123105625617661:\n",
      "9: 84497, with distance of 4.123105625617661:\n",
      "10: 90146, with distance of 4.123105625617661:\n"
     ]
    }
   ],
   "source": [
    "knnRecommend(11001,AutumnDataSet)"
   ]
  },
  {
   "cell_type": "markdown",
   "metadata": {},
   "source": [
    "#### Winter Dataset"
   ]
  },
  {
   "cell_type": "code",
   "execution_count": 34,
   "metadata": {},
   "outputs": [
    {
     "name": "stdout",
     "output_type": "stream",
     "text": [
      "Recommendations for 11001:\n",
      "\n",
      "1: 22687, with distance of 3.0:\n",
      "2: 90167, with distance of 3.0:\n",
      "3: 78124, with distance of 3.0:\n",
      "4: 20653, with distance of 3.0:\n",
      "5: 21293, with distance of 3.0:\n",
      "6: 72812, with distance of 3.0:\n",
      "7: 23038, with distance of 3.0:\n",
      "8: 23088, with distance of 3.1622776601683795:\n",
      "9: 90119, with distance of 3.1622776601683795:\n",
      "10: 85095, with distance of 3.1622776601683795:\n"
     ]
    }
   ],
   "source": [
    "knnRecommend(11001,WinterDataSet)"
   ]
  },
  {
   "attachments": {
    "image.png": {
     "image/png": "[encoded data removed]"
    }
   },
   "cell_type": "markdown",
   "metadata": {},
   "source": [
    "### Collaborative Filtering Using Cosine Similarity\n",
    "\n",
    "Cosine similarity is simply one of the most common metrics used to find the recommendation. It will measure the similarity between these two vectors, which is a measure of how similar these two people's preferences are. Mathematically, if ‘a’ and ‘b’ are two vectors, the cosine equation gives the angle between the two.\n",
    "\n",
    "![image.png](attachment:image.png)\n",
    "\n",
    "We could see the overall dataset as a better similarity than the other dataset. Most of the similarity are ranging from 0.8 to 0.95 while for other dataset ranges from 0.2 to 0.3"
   ]
  },
  {
   "cell_type": "code",
   "execution_count": 100,
   "metadata": {},
   "outputs": [],
   "source": [
    "def CollaborativeFiltering(customMatrix,dataset):\n",
    "    ItemMatrix = pd.DataFrame(cosine_similarity(customMatrix.T))\n",
    "    ItemMatrix.columns = customMatrix.T.index\n",
    "    ItemMatrix['StockCode'] = customMatrix.T.index\n",
    "    ItemMatrix = ItemMatrix.set_index('StockCode')\n",
    "    cosine_df = pd.DataFrame(ItemMatrix.loc[11001].sort_values(ascending=False).iloc[:11])\n",
    "    cosine_df.reset_index(level=0, inplace=True)\n",
    "    cosine_df.columns = ['StockCode','CosineSim']\n",
    "    result =pd.merge(cosine_df, dataset, on='StockCode', how='inner')[['StockCode','Description','CosineSim']];\n",
    "    print(result.drop_duplicates().set_index('StockCode'))\n",
    "    "
   ]
  },
  {
   "cell_type": "markdown",
   "metadata": {},
   "source": [
    "#### Overall Dataset"
   ]
  },
  {
   "cell_type": "code",
   "execution_count": 101,
   "metadata": {},
   "outputs": [
    {
     "name": "stdout",
     "output_type": "stream",
     "text": [
      "                                Description  CosineSim\n",
      "StockCode                                             \n",
      "11001           ASSTD DESIGN RACING CAR PEN   1.000000\n",
      "23215      JINGLE BELL HEART ANTIQUE SILVER   0.942476\n",
      "22191                IVORY DINER WALL CLOCK   0.931216\n",
      "22493             PAINT YOUR OWN CANVAS SET   0.920351\n",
      "22991                  GIRAFFE WOODEN RULER   0.911492\n",
      "21479          WHITE SKULL HOT WATER BOTTLE   0.892183\n",
      "22604        SET OF 4 NAPKIN CHARMS CUTLERY   0.866970\n",
      "20829      GLITTER HANGING BUTTERFLY STRING   0.857509\n",
      "84879         ASSORTED COLOUR BIRD ORNAMENT   0.835437\n",
      "22992                 REVOLVER WOODEN RULER   0.814174\n",
      "22564                ALPHABET STENCIL CRAFT   0.802365\n"
     ]
    }
   ],
   "source": [
    "CollaborativeFiltering(DfCustomMatrix,df)"
   ]
  },
  {
   "cell_type": "markdown",
   "metadata": {},
   "source": [
    "#### Spring Dataset"
   ]
  },
  {
   "cell_type": "code",
   "execution_count": 102,
   "metadata": {},
   "outputs": [
    {
     "name": "stdout",
     "output_type": "stream",
     "text": [
      "                                   Description  CosineSim\n",
      "StockCode                                                \n",
      "11001              ASSTD DESIGN RACING CAR PEN   1.000000\n",
      "21643             ASSORTED TUTTI FRUTTI MIRROR   0.482418\n",
      "71270                          PHOTO CLIP LINE   0.462137\n",
      "20670                        VIP HOLIDAY PURSE   0.461280\n",
      "22808          SET OF 6 T-LIGHTS EASTER CHICKS   0.450601\n",
      "21642                ASSORTED TUTTI FRUTTI PEN   0.358353\n",
      "21640      ASSORTED TUTTI FRUTTI  FOB NOTEBOOK   0.321736\n",
      "85172            HYACINTH BULB T-LIGHT CANDLES   0.297755\n",
      "20941                              FROG CANDLE   0.280150\n",
      "22438        BALLOON ART MAKE YOUR OWN FLOWERS   0.274786\n",
      "20906             VINTAGE NOTEBOOK BEAUTY GIRL   0.257863\n"
     ]
    }
   ],
   "source": [
    "CollaborativeFiltering(SpringCustomMatrix,SpringDataSet)"
   ]
  },
  {
   "cell_type": "markdown",
   "metadata": {},
   "source": [
    "#### Summer Dataset"
   ]
  },
  {
   "cell_type": "code",
   "execution_count": 103,
   "metadata": {},
   "outputs": [
    {
     "name": "stdout",
     "output_type": "stream",
     "text": [
      "                                  Description  CosineSim\n",
      "StockCode                                               \n",
      "11001             ASSTD DESIGN RACING CAR PEN   1.000000\n",
      "22564                  ALPHABET STENCIL CRAFT   0.991130\n",
      "21479            WHITE SKULL HOT WATER BOTTLE   0.991087\n",
      "23215        JINGLE BELL HEART ANTIQUE SILVER   0.989113\n",
      "22191                  IVORY DINER WALL CLOCK   0.987246\n",
      "22991                    GIRAFFE WOODEN RULER   0.986737\n",
      "22493               PAINT YOUR OWN CANVAS SET   0.984587\n",
      "20829        GLITTER HANGING BUTTERFLY STRING   0.982085\n",
      "84879           ASSORTED COLOUR BIRD ORNAMENT   0.975151\n",
      "21430      SET/3 RED GINGHAM ROSE STORAGE BOX   0.969398\n",
      "22561             WOODEN SCHOOL COLOURING SET   0.968940\n"
     ]
    }
   ],
   "source": [
    "CollaborativeFiltering(SummerCustomMatrix, SummerDataSet)"
   ]
  },
  {
   "cell_type": "markdown",
   "metadata": {},
   "source": [
    "#### Autumn Dataset"
   ]
  },
  {
   "cell_type": "code",
   "execution_count": 89,
   "metadata": {},
   "outputs": [
    {
     "name": "stdout",
     "output_type": "stream",
     "text": [
      "                                Description  CosineSim\n",
      "StockCode                                             \n",
      "11001           ASSTD DESIGN RACING CAR PEN   1.000000\n",
      "22422                   TOOTHPASTE TUBE PEN   0.245045\n",
      "21056                 DOCTOR'S BAG SOFT TOY   0.232167\n",
      "20619               TROPICAL PASSPORT COVER   0.226073\n",
      "84813         SET OF 4 DIAMOND NAPKIN RINGS   0.218116\n",
      "10135          COLOURING PENCILS BROWN TUBE   0.216506\n",
      "90086              CRYSTAL FROG PHONE CHARM   0.207750\n",
      "20662             FIRST CLASS HOLIDAY PURSE   0.207750\n",
      "90093        CLEAR CRYSTAL STAR PHONE CHARM   0.207750\n",
      "20663      QUEEN OF THE SKIES HOLIDAY PURSE   0.207750\n",
      "90049            IVORY GOLD METAL BAG CHARM   0.207750\n"
     ]
    }
   ],
   "source": [
    "CollaborativeFiltering(AutumnCustomMatrix,AutumnDataSet)"
   ]
  },
  {
   "cell_type": "markdown",
   "metadata": {},
   "source": [
    "#### Winter Dataset"
   ]
  },
  {
   "cell_type": "code",
   "execution_count": 90,
   "metadata": {},
   "outputs": [
    {
     "name": "stdout",
     "output_type": "stream",
     "text": [
      "                               Description  CosineSim\n",
      "StockCode                                            \n",
      "11001          ASSTD DESIGN RACING CAR PEN   1.000000\n",
      "90167      BEADED LOVE HEART JEWELLERY SET   0.631101\n",
      "78124         MAGAZINE RACK GEBRA ASSORTED   0.315551\n",
      "21557               SET OF 6 FUNKY BEAKERS   0.312740\n",
      "20830                   SILVER PHOTO FRAME   0.309175\n",
      "21197        MULTICOLOUR  CONFETTI IN TUBE   0.289516\n",
      "22449             SILK PURSE BABUSHKA PINK   0.218347\n",
      "21832                 CHOCOLATE CALCULATOR   0.215876\n",
      "22940            FELTCRAFT CHRISTMAS FAIRY   0.211357\n",
      "22869         NUMBER TILE COTTAGE GARDEN 1   0.195932\n",
      "22872         NUMBER TILE COTTAGE GARDEN 4   0.194185\n"
     ]
    }
   ],
   "source": [
    "CollaborativeFiltering(WinterCustomMatrix,WinterDataSet)"
   ]
  },
  {
   "attachments": {
    "image.png": {
     "image/png": "[encoded data removed]"
    }
   },
   "cell_type": "markdown",
   "metadata": {},
   "source": [
    "### Pearson correlation coefficient algorithm\n",
    "\n",
    "A Pearson correlation is a -1 to 1 number indicating the extent to which two variables are linearly related. The Pearson correlation is also known as the \"coefficient of correlation of the moment of the product\" (PMCC) or simply \"correlation.\"\n",
    "\n",
    "\n",
    "![image.png](attachment:image.png)"
   ]
  },
  {
   "attachments": {
    "image.png": {
     "image/png": "[encoded data removed]"
    }
   },
   "cell_type": "markdown",
   "metadata": {},
   "source": [
    "![image.png](attachment:image.png)"
   ]
  },
  {
   "cell_type": "markdown",
   "metadata": {},
   "source": [
    "Here also the overall and summer dataset as better correlation than other datasets but the recommended products doesn't match with each other"
   ]
  },
  {
   "cell_type": "code",
   "execution_count": 97,
   "metadata": {},
   "outputs": [],
   "source": [
    "def recommend(StockCode,CustomMatrix,sDataset):\n",
    "    print(\"For StockCode ({})\".format(StockCode))\n",
    "    print(\"- Top 10 Products recommended based on Pearsons'R correlation - \")\n",
    "    target = CustomMatrix[StockCode]\n",
    "    similar_to_target = CustomMatrix.corrwith(target)\n",
    "    corr_target = pd.DataFrame(similar_to_target,columns=['Correlation'])\n",
    "    corr_target.dropna(inplace = True)\n",
    "    corr_target = corr_target.reset_index()\n",
    "    corr_target = corr_target.sort_values('Correlation', ascending = False)\n",
    "    result =pd.merge(corr_target, sDataset, on='StockCode', how='inner')[['StockCode','Description','Correlation']];\n",
    "    result=result.drop_duplicates()\n",
    "    print(result.head(11))"
   ]
  },
  {
   "cell_type": "markdown",
   "metadata": {},
   "source": [
    "#### Overall Dataset"
   ]
  },
  {
   "cell_type": "code",
   "execution_count": 98,
   "metadata": {},
   "outputs": [
    {
     "name": "stdout",
     "output_type": "stream",
     "text": [
      "For StockCode (11001)\n",
      "- Top 10 Products recommended based on Pearsons'R correlation - \n",
      "     StockCode                       Description  Correlation\n",
      "0        11001       ASSTD DESIGN RACING CAR PEN     1.000000\n",
      "64       23215  JINGLE BELL HEART ANTIQUE SILVER     0.942391\n",
      "267      22191            IVORY DINER WALL CLOCK     0.931122\n",
      "668      22493         PAINT YOUR OWN CANVAS SET     0.920232\n",
      "848      22991              GIRAFFE WOODEN RULER     0.911352\n",
      "1089     21479      WHITE SKULL HOT WATER BOTTLE     0.892067\n",
      "1480     22604    SET OF 4 NAPKIN CHARMS CUTLERY     0.866787\n",
      "1592     20829  GLITTER HANGING BUTTERFLY STRING     0.857290\n",
      "1761     84879     ASSORTED COLOUR BIRD ORNAMENT     0.836037\n",
      "3166     22992             REVOLVER WOODEN RULER     0.813873\n",
      "3462     22564            ALPHABET STENCIL CRAFT     0.802144\n"
     ]
    }
   ],
   "source": [
    "recommend(11001,DfCustomMatrix,df)"
   ]
  },
  {
   "cell_type": "markdown",
   "metadata": {},
   "source": [
    " #### Spring Dataset"
   ]
  },
  {
   "cell_type": "code",
   "execution_count": 99,
   "metadata": {},
   "outputs": [
    {
     "name": "stdout",
     "output_type": "stream",
     "text": [
      "For StockCode (11001)\n",
      "- Top 10 Products recommended based on Pearsons'R correlation - \n",
      "   StockCode                          Description  Correlation\n",
      "0      11001          ASSTD DESIGN RACING CAR PEN     1.000000\n",
      "11     21643         ASSORTED TUTTI FRUTTI MIRROR     0.480862\n",
      "17     71270                      PHOTO CLIP LINE     0.460970\n",
      "23     20670                    VIP HOLIDAY PURSE     0.460503\n",
      "25     22808      SET OF 6 T-LIGHTS EASTER CHICKS     0.448106\n",
      "46     21642            ASSORTED TUTTI FRUTTI PEN     0.356871\n",
      "51     21640  ASSORTED TUTTI FRUTTI  FOB NOTEBOOK     0.319717\n",
      "57     85172        HYACINTH BULB T-LIGHT CANDLES     0.294771\n",
      "67     20941                          FROG CANDLE     0.277679\n",
      "75     22438    BALLOON ART MAKE YOUR OWN FLOWERS     0.271241\n",
      "89     20906         VINTAGE NOTEBOOK BEAUTY GIRL     0.257009\n"
     ]
    }
   ],
   "source": [
    "recommend(11001,SpringCustomMatrix,SpringDataSet)"
   ]
  },
  {
   "cell_type": "markdown",
   "metadata": {},
   "source": [
    "#### Summer Dataset"
   ]
  },
  {
   "cell_type": "code",
   "execution_count": 94,
   "metadata": {},
   "outputs": [
    {
     "name": "stdout",
     "output_type": "stream",
     "text": [
      "For StockCode (11001)\n",
      "- Top 10 Products recommended based on Pearsons'R correlation - \n",
      "    StockCode                         Description  Correlation\n",
      "0       11001         ASSTD DESIGN RACING CAR PEN     1.000000\n",
      "15      22564              ALPHABET STENCIL CRAFT     0.991127\n",
      "51      21479        WHITE SKULL HOT WATER BOTTLE     0.991091\n",
      "69      23215    JINGLE BELL HEART ANTIQUE SILVER     0.989113\n",
      "85      22191              IVORY DINER WALL CLOCK     0.987235\n",
      "169     22991                GIRAFFE WOODEN RULER     0.986723\n",
      "210     22493           PAINT YOUR OWN CANVAS SET     0.984575\n",
      "248     20829    GLITTER HANGING BUTTERFLY STRING     0.982069\n",
      "284     84879       ASSORTED COLOUR BIRD ORNAMENT     0.975410\n",
      "570     21430  SET/3 RED GINGHAM ROSE STORAGE BOX     0.969412\n",
      "634     22561         WOODEN SCHOOL COLOURING SET     0.969014\n"
     ]
    }
   ],
   "source": [
    "recommend(11001,SummerCustomMatrix,SummerDataSet)"
   ]
  },
  {
   "cell_type": "markdown",
   "metadata": {},
   "source": [
    "#### Autumn Dataset"
   ]
  },
  {
   "cell_type": "code",
   "execution_count": 104,
   "metadata": {},
   "outputs": [
    {
     "name": "stdout",
     "output_type": "stream",
     "text": [
      "For StockCode (11001)\n",
      "- Top 10 Products recommended based on Pearsons'R correlation - \n",
      "    StockCode                          Description  Correlation\n",
      "0       11001          ASSTD DESIGN RACING CAR PEN     1.000000\n",
      "27      22422                  TOOTHPASTE TUBE PEN     0.241947\n",
      "68      21056                DOCTOR'S BAG SOFT TOY     0.230268\n",
      "83      20619              TROPICAL PASSPORT COVER     0.224647\n",
      "90      84813        SET OF 4 DIAMOND NAPKIN RINGS     0.217113\n",
      "93      10135         COLOURING PENCILS BROWN TUBE     0.212833\n",
      "131     90032           IVORY SHELL HEART NECKLACE     0.206993\n",
      "132     90146  FINE SILVER NECKLACE W PASTEL FLOWE     0.206993\n",
      "133     72812        LARGE ZINC GLASS CANDLEHOLDER     0.206993\n",
      "134     90083      CRYSTAL CZECH CROSS PHONE CHARM     0.206993\n",
      "137     20662            FIRST CLASS HOLIDAY PURSE     0.206993\n"
     ]
    }
   ],
   "source": [
    "recommend(11001,AutumnCustomMatrix,AutumnDataSet)"
   ]
  },
  {
   "cell_type": "markdown",
   "metadata": {},
   "source": [
    "#### Winter Dataset"
   ]
  },
  {
   "cell_type": "code",
   "execution_count": 96,
   "metadata": {},
   "outputs": [
    {
     "name": "stdout",
     "output_type": "stream",
     "text": [
      "For StockCode (11001)\n",
      "- Top 10 Products recommended based on Pearsons'R correlation - \n",
      "    StockCode                      Description  Correlation\n",
      "0       11001      ASSTD DESIGN RACING CAR PEN     1.000000\n",
      "11      90167  BEADED LOVE HEART JEWELLERY SET     0.631033\n",
      "12      78124     MAGAZINE RACK GEBRA ASSORTED     0.314851\n",
      "13      21557           SET OF 6 FUNKY BEAKERS     0.311608\n",
      "30      20830               SILVER PHOTO FRAME     0.307079\n",
      "37      21197    MULTICOLOUR  CONFETTI IN TUBE     0.288052\n",
      "42      22449         SILK PURSE BABUSHKA PINK     0.213531\n",
      "77      21832             CHOCOLATE CALCULATOR     0.211850\n",
      "107     22940        FELTCRAFT CHRISTMAS FAIRY     0.205746\n",
      "182     22869     NUMBER TILE COTTAGE GARDEN 1     0.193965\n",
      "187     22872     NUMBER TILE COTTAGE GARDEN 4     0.192145\n"
     ]
    }
   ],
   "source": [
    "recommend(11001,WinterCustomMatrix,WinterDataSet)"
   ]
  },
  {
   "attachments": {
    "image.png": {
     "image/png": "[encoded data removed]"
    }
   },
   "cell_type": "markdown",
   "metadata": {},
   "source": [
    "### Matrix Factorization\n",
    "\n",
    "Matrix factorization is a class of algorithms used in the recommender systems for collaborative filtering. Matrix factorization algorithms work by breaking down the matrix of the user-item interaction into the product of two rectangular matrices with lower dimensionality.\n",
    "\n",
    "![image.png](attachment:image.png)\n",
    "\n"
   ]
  },
  {
   "cell_type": "markdown",
   "metadata": {},
   "source": [
    "Like other algorithms the recommended stock code are not matching with each other."
   ]
  },
  {
   "cell_type": "code",
   "execution_count": 59,
   "metadata": {},
   "outputs": [],
   "source": [
    "SpringMatrix = SpringDataSet.pivot_table(index='StockCode',columns='CustomerID',values='Quantity',aggfunc='sum')\n",
    "SpringMatrix = SpringMatrix.applymap(lambda x: x if x>0 else 0)\n",
    "SummerMatrix = SummerDataSet.pivot_table(index='StockCode',columns='CustomerID',values='Quantity',aggfunc='sum')\n",
    "SummerMatrix = SummerMatrix.applymap(lambda x: x if x>0 else 0)\n",
    "AutumnMatrix = AutumnDataSet.pivot_table(index='StockCode',columns='CustomerID',values='Quantity',aggfunc='sum')\n",
    "AutumnMatrix = AutumnMatrix.applymap(lambda x: x if x>0 else 0)\n",
    "WinterMatrix = WinterDataSet.pivot_table(index='StockCode',columns='CustomerID',values='Quantity',aggfunc='sum')\n",
    "WinterMatrix = WinterMatrix.applymap(lambda x: x if x>0 else 0)\n",
    "DfMatrix = df.pivot_table(index='StockCode',columns='CustomerID',values='Quantity',aggfunc='sum')\n",
    "DfMatrix = DfMatrix.applymap(lambda x: x if x>0 else 0)"
   ]
  },
  {
   "cell_type": "code",
   "execution_count": 60,
   "metadata": {},
   "outputs": [],
   "source": [
    "def MeanMatrix(matrix):\n",
    "    R = matrix.as_matrix()\n",
    "    QuantityMean = np.mean(R, axis = 1)\n",
    "    R_demeaned = R - QuantityMean.reshape(-1, 1)\n",
    "    U, sigma, Vt = svds(R_demeaned, k = 50)\n",
    "    sigma = np.diag(sigma)\n",
    "    AllItmQty = np.dot(np.dot(U, sigma), Vt) + QuantityMean.reshape(-1, 1)\n",
    "    preds_df = pd.DataFrame(AllItmQty, columns = matrix.columns)\n",
    "    return preds_df\n",
    "    "
   ]
  },
  {
   "cell_type": "code",
   "execution_count": 77,
   "metadata": {},
   "outputs": [],
   "source": [
    "def recommendItems(StockCode,Matrix, Dataset, num_recommendations=10):\n",
    "    \n",
    "    predictions_df=MeanMatrix(Matrix)\n",
    "    Matrix = Matrix.reset_index()\n",
    "    StockCodeRowNumber = Matrix.loc[Matrix['StockCode'] == StockCode].index.values.astype(int)[0]\n",
    "    sorted_user_predictions = predictions_df.iloc[StockCodeRowNumber].sort_values(ascending=False)\n",
    "    \n",
    "    \n",
    "    stock_data = Dataset[Dataset.StockCode == (StockCode)]\n",
    "    stock_full = (stock_data.sort_values(['Quantity'], ascending=False))\n",
    "    print('Top 10 recommendation')\n",
    "    \n",
    "    recommendations = (Dataset[Dataset['CustomerID'].isin(stock_full['CustomerID'])].\n",
    "         merge(pd.DataFrame(sorted_user_predictions).reset_index(), how = 'left',\n",
    "               left_on = 'CustomerID',\n",
    "               right_on = 'CustomerID').\n",
    "         rename(columns = {StockCodeRowNumber: 'Predictions'}).\n",
    "         sort_values('Predictions', ascending = False).\n",
    "                       iloc[:num_recommendations, :-1]\n",
    "                      )\n",
    "    print(recommendations[['StockCode', 'Description']]  )"
   ]
  },
  {
   "cell_type": "markdown",
   "metadata": {},
   "source": [
    "#### Overall Dataset"
   ]
  },
  {
   "cell_type": "code",
   "execution_count": 78,
   "metadata": {},
   "outputs": [
    {
     "name": "stderr",
     "output_type": "stream",
     "text": [
      "C:\\Users\\Vinoth Shankar\\AppData\\Local\\Programs\\Python\\Python37\\lib\\site-packages\\ipykernel_launcher.py:2: FutureWarning: Method .as_matrix will be removed in a future version. Use .values instead.\n",
      "  \n"
     ]
    },
    {
     "name": "stdout",
     "output_type": "stream",
     "text": [
      "Top 10 recommendation\n",
      "     StockCode                         Description\n",
      "8462     22197                      POPCORN HOLDER\n",
      "9138     23084                  RABBIT NIGHT LIGHT\n",
      "8310     22991                GIRAFFE WOODEN RULER\n",
      "8311     21479        WHITE SKULL HOT WATER BOTTLE\n",
      "8312     22493           PAINT YOUR OWN CANVAS SET\n",
      "8313     22561         WOODEN SCHOOL COLOURING SET\n",
      "8461     21430  SET/3 RED GINGHAM ROSE STORAGE BOX\n",
      "8460     23215    JINGLE BELL HEART ANTIQUE SILVER\n",
      "8459     22191              IVORY DINER WALL CLOCK\n",
      "8458     23203           JUMBO BAG DOILEY PATTERNS\n"
     ]
    }
   ],
   "source": [
    "recommendItems(11001,DfMatrix, df, 10)"
   ]
  },
  {
   "cell_type": "markdown",
   "metadata": {},
   "source": [
    "#### Spring Dataset"
   ]
  },
  {
   "cell_type": "code",
   "execution_count": 63,
   "metadata": {},
   "outputs": [
    {
     "name": "stderr",
     "output_type": "stream",
     "text": [
      "C:\\Users\\Vinoth Shankar\\AppData\\Local\\Programs\\Python\\Python37\\lib\\site-packages\\ipykernel_launcher.py:2: FutureWarning: Method .as_matrix will be removed in a future version. Use .values instead.\n",
      "  \n"
     ]
    },
    {
     "name": "stdout",
     "output_type": "stream",
     "text": [
      "Top 10 recommendation\n",
      "    StockCode                          Description\n",
      "733     22619            SET OF 6 SOLDIER SKITTLES\n",
      "773     21078      SET/20 STRAWBERRY PAPER NAPKINS\n",
      "784     23192  BUNDLE OF 3 ALPHABET EXERCISE BOOKS\n",
      "783     23190    BUNDLE OF 3 SCHOOL EXERCISE BOOKS\n",
      "782     22425                ENAMEL COLANDER CREAM\n",
      "781     23091           ZINC HERB GARDEN CONTAINER\n",
      "780     21246               RED RETROSPOT BIG BOWL\n",
      "779     23176                ABC TREASURE BOOK BOX\n",
      "778     23193       BUFFALO BILL TREASURE BOOK BOX\n",
      "777     23177             TREASURE ISLAND BOOK BOX\n"
     ]
    }
   ],
   "source": [
    "recommendItems(11001,SpringMatrix, SpringDataSet, 10)"
   ]
  },
  {
   "cell_type": "markdown",
   "metadata": {},
   "source": [
    "#### Summer Dataset"
   ]
  },
  {
   "cell_type": "code",
   "execution_count": 64,
   "metadata": {},
   "outputs": [
    {
     "name": "stderr",
     "output_type": "stream",
     "text": [
      "C:\\Users\\Vinoth Shankar\\AppData\\Local\\Programs\\Python\\Python37\\lib\\site-packages\\ipykernel_launcher.py:2: FutureWarning: Method .as_matrix will be removed in a future version. Use .values instead.\n",
      "  \n"
     ]
    },
    {
     "name": "stdout",
     "output_type": "stream",
     "text": [
      "Top 10 recommendation\n",
      "     StockCode                        Description\n",
      "1610     23203          JUMBO BAG DOILEY PATTERNS\n",
      "1726     23201                 JUMBO BAG ALPHABET\n",
      "1615     21731      RED TOADSTOOL LED NIGHT LIGHT\n",
      "1616     84879      ASSORTED COLOUR BIRD ORNAMENT\n",
      "1617     22139    RETROSPOT TEA SET CERAMIC 11 PC\n",
      "1718     21915              RED  HARMONICA IN BOX\n",
      "1719     20972  PINK CREAM FELT CRAFT TRINKET BOX\n",
      "1720     11001        ASSTD DESIGN RACING CAR PEN\n",
      "1721     21791  VINTAGE HEADS AND TAILS CARD GAME\n",
      "1722     21481         FAWN BLUE HOT WATER BOTTLE\n"
     ]
    }
   ],
   "source": [
    "recommendItems(11001,SummerMatrix, SummerDataSet, 10)"
   ]
  },
  {
   "cell_type": "markdown",
   "metadata": {},
   "source": [
    "#### Autumn Dataset"
   ]
  },
  {
   "cell_type": "code",
   "execution_count": 65,
   "metadata": {},
   "outputs": [
    {
     "name": "stderr",
     "output_type": "stream",
     "text": [
      "C:\\Users\\Vinoth Shankar\\AppData\\Local\\Programs\\Python\\Python37\\lib\\site-packages\\ipykernel_launcher.py:2: FutureWarning: Method .as_matrix will be removed in a future version. Use .values instead.\n",
      "  \n"
     ]
    },
    {
     "name": "stdout",
     "output_type": "stream",
     "text": [
      "Top 10 recommendation\n",
      "     StockCode                          Description\n",
      "0        15034           PAPER POCKET TRAVELING FAN\n",
      "4512     22998         TRAVEL CARD WALLET KEEP CALM\n",
      "4501     23302       KNEELING MAT HOUSEWORK  DESIGN\n",
      "4502     20914  SET/5 RED RETROSPOT LID GLASS BOWLS\n",
      "4503     22066               LOVE HEART TRINKET POT\n",
      "4504     21618       4 WILDFLOWER BOTANICAL CANDLES\n",
      "4505     21615  4 LAVENDER BOTANICAL DINNER CANDLES\n",
      "4506     21619          4 VANILLA BOTANICAL CANDLES\n",
      "4507     21617     4 LILY  BOTANICAL DINNER CANDLES\n",
      "4508     21616      4 PEAR BOTANICAL DINNER CANDLES\n"
     ]
    }
   ],
   "source": [
    "recommendItems(11001,AutumnMatrix, AutumnDataSet, 10)"
   ]
  },
  {
   "cell_type": "markdown",
   "metadata": {},
   "source": [
    "#### Winter Dataset"
   ]
  },
  {
   "cell_type": "code",
   "execution_count": 66,
   "metadata": {},
   "outputs": [
    {
     "name": "stderr",
     "output_type": "stream",
     "text": [
      "C:\\Users\\Vinoth Shankar\\AppData\\Local\\Programs\\Python\\Python37\\lib\\site-packages\\ipykernel_launcher.py:2: FutureWarning: Method .as_matrix will be removed in a future version. Use .values instead.\n",
      "  \n"
     ]
    },
    {
     "name": "stdout",
     "output_type": "stream",
     "text": [
      "Top 10 recommendation\n",
      "    StockCode                   Description\n",
      "0       16237          SLEEPING CAT ERASERS\n",
      "892     22472     TV DINNER TRAY DOLLY GIRL\n",
      "885     22418        10 COLOUR SPACEBOY PEN\n",
      "886     20996      JAZZ HEARTS ADDRESS BOOK\n",
      "887     22203        MILK PAN RED RETROSPOT\n",
      "888     22752  SET 7 BABUSHKA NESTING BOXES\n",
      "889     20763              DAISY SKETCHBOOK\n",
      "890     22030        SWALLOWS GREETING CARD\n",
      "891     22817            CARD SUKI BIRTHDAY\n",
      "893     22474       SPACEBOY TV DINNER TRAY\n"
     ]
    }
   ],
   "source": [
    "recommendItems(11001,WinterMatrix, WinterDataSet, 10)"
   ]
  },
  {
   "cell_type": "markdown",
   "metadata": {},
   "source": [
    "## Analysis\n",
    "\n",
    "On comparing recommended stock codes across all algorithms. Cosine similarity and Pearson correlation coefficient as a better result. On comparing both these algorithm I could see their results are the same except for the winter dataset which also as a 50% success rate."
   ]
  },
  {
   "cell_type": "markdown",
   "metadata": {},
   "source": [
    "## Conclusion\n",
    "\n",
    "Even though all these four algorithms as their advantage and disadvantage. I could suggest Cosine similarity and Pearson correlation as better suitable for recommending system than the other two algorithms. In the future, we can also do this analysis country wise to get a better result."
   ]
  }
 ],
 "metadata": {
  "kernelspec": {
   "display_name": "Python 3",
   "language": "python",
   "name": "python3"
  },
  "language_info": {
   "codemirror_mode": {
    "name": "ipython",
    "version": 3
   },
   "file_extension": ".py",
   "mimetype": "text/x-python",
   "name": "python",
   "nbconvert_exporter": "python",
   "pygments_lexer": "ipython3",
   "version": "3.7.4"
  },
  "toc": {
   "base_numbering": 1,
   "nav_menu": {},
   "number_sections": true,
   "sideBar": true,
   "skip_h1_title": false,
   "title_cell": "Table of Contents",
   "title_sidebar": "Contents",
   "toc_cell": false,
   "toc_position": {},
   "toc_section_display": true,
   "toc_window_display": true
  },
  "varInspector": {
   "cols": {
    "lenName": 16,
    "lenType": 16,
    "lenVar": 40
   },
   "kernels_config": {
    "python": {
     "delete_cmd_postfix": "",
     "delete_cmd_prefix": "del ",
     "library": "var_list.py",
     "varRefreshCmd": "print(var_dic_list())"
    },
    "r": {
     "delete_cmd_postfix": ") ",
     "delete_cmd_prefix": "rm(",
     "library": "var_list.r",
     "varRefreshCmd": "cat(var_dic_list()) "
    }
   },
   "types_to_exclude": [
    "module",
    "function",
    "builtin_function_or_method",
    "instance",
    "_Feature"
   ],
   "window_display": false
  }
 },
 "nbformat": 4,
 "nbformat_minor": 2
}
